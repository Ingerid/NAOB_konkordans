{
 "cells": [
  {
   "cell_type": "code",
   "execution_count": 8,
   "metadata": {},
   "outputs": [],
   "source": [
    "import dhlab.text as dh"
   ]
  },
  {
   "cell_type": "code",
   "execution_count": 18,
   "metadata": {},
   "outputs": [],
   "source": [
    "import dhlab.api.dhlab_api as api"
   ]
  },
  {
   "cell_type": "code",
   "execution_count": null,
   "metadata": {},
   "outputs": [],
   "source": [
    "api.concordance(urns )"
   ]
  },
  {
   "cell_type": "code",
   "execution_count": 9,
   "metadata": {},
   "outputs": [],
   "source": [
    "import pandas as pd"
   ]
  },
  {
   "cell_type": "code",
   "execution_count": 20,
   "metadata": {},
   "outputs": [],
   "source": [
    "naob = pd.read_csv(\"naob.csv\")"
   ]
  },
  {
   "cell_type": "code",
   "execution_count": 21,
   "metadata": {},
   "outputs": [],
   "source": [
    "naob = dh.CorpusFromIdentifiers(identifiers = list(naob.urn.values)).corpus"
   ]
  },
  {
   "cell_type": "code",
   "execution_count": 30,
   "metadata": {},
   "outputs": [
    {
     "data": {
      "text/plain": [
       "[]"
      ]
     },
     "execution_count": 30,
     "metadata": {},
     "output_type": "execute_result"
    }
   ],
   "source": [
    "list(naob[naob.authors.str.contains('mykle')].urn.values)"
   ]
  },
  {
   "cell_type": "code",
   "execution_count": 23,
   "metadata": {},
   "outputs": [
    {
     "data": {
      "text/plain": [
       "0        URN:NBN:no-nb_digibok_2013013008121\n",
       "1        URN:NBN:no-nb_digibok_2006121400043\n",
       "2        URN:NBN:no-nb_digibok_2006111700037\n",
       "3        URN:NBN:no-nb_digibok_2006121101036\n",
       "4        URN:NBN:no-nb_digibok_2008090100071\n",
       "                        ...                 \n",
       "10561    URN:NBN:no-nb_digibok_2008081200111\n",
       "10562    URN:NBN:no-nb_digibok_2008082100028\n",
       "10563    URN:NBN:no-nb_digibok_2008092604070\n",
       "10564    URN:NBN:no-nb_digibok_2011022806102\n",
       "10565    URN:NBN:no-nb_digibok_2011022305144\n",
       "Name: urn, Length: 10566, dtype: object"
      ]
     },
     "execution_count": 23,
     "metadata": {},
     "output_type": "execute_result"
    }
   ],
   "source": [
    "naob.urn"
   ]
  },
  {
   "cell_type": "code",
   "execution_count": 17,
   "metadata": {},
   "outputs": [
    {
     "data": {
      "text/html": [
       "<style type=\"text/css\">\n",
       "</style>\n",
       "<table id=\"T_f1577\">\n",
       "  <thead>\n",
       "    <tr>\n",
       "      <th class=\"blank level0\" >&nbsp;</th>\n",
       "      <th id=\"T_f1577_level0_col0\" class=\"col_heading level0 col0\" >link</th>\n",
       "      <th id=\"T_f1577_level0_col1\" class=\"col_heading level0 col1\" >concordance</th>\n",
       "    </tr>\n",
       "  </thead>\n",
       "  <tbody>\n",
       "    <tr>\n",
       "      <th id=\"T_f1577_level0_row0\" class=\"row_heading level0 row0\" >2</th>\n",
       "      <td id=\"T_f1577_row0_col0\" class=\"data row0 col0\" ><a target='_blank' href = 'https://urn.nb.no/URN:NBN:no-nb_digibok_2010040605025'>URN:NBN:no-nb_digibok_2010040605025</a></td>\n",
       "      <td id=\"T_f1577_row0_col1\" class=\"data row0 col1\" >« <b>Titt-tei</b> , hvor er vi nå ? » « Gullet . »</td>\n",
       "    </tr>\n",
       "    <tr>\n",
       "      <th id=\"T_f1577_level0_row1\" class=\"row_heading level0 row1\" >1</th>\n",
       "      <td id=\"T_f1577_row1_col0\" class=\"data row1 col0\" ><a target='_blank' href = 'https://urn.nb.no/URN:NBN:no-nb_digibok_2011021505039'>URN:NBN:no-nb_digibok_2011021505039</a></td>\n",
       "      <td id=\"T_f1577_row1_col1\" class=\"data row1 col1\" >... Særlig yndet er forsvinningsleken ( <b>titt-tei</b> ) , som inneholder momenter av både spenning og forventning , og ride-ranke lekene... </td>\n",
       "    </tr>\n",
       "    <tr>\n",
       "      <th id=\"T_f1577_level0_row2\" class=\"row_heading level0 row2\" >0</th>\n",
       "      <td id=\"T_f1577_row2_col0\" class=\"data row2 col0\" ><a target='_blank' href = 'https://urn.nb.no/URN:NBN:no-nb_digibok_2011021505039'>URN:NBN:no-nb_digibok_2011021505039</a></td>\n",
       "      <td id=\"T_f1577_row2_col1\" class=\"data row2 col1\" >... Særlig yndet er forsvinningsleken ( <b>titt-tei</b> ) , som inneholder momenter av både spenning og forventning , og ride-ranke lekene... </td>\n",
       "    </tr>\n",
       "    <tr>\n",
       "      <th id=\"T_f1577_level0_row3\" class=\"row_heading level0 row3\" >3</th>\n",
       "      <td id=\"T_f1577_row3_col0\" class=\"data row3 col0\" ><a target='_blank' href = 'https://urn.nb.no/URN:NBN:no-nb_digibok_2010040605025'>URN:NBN:no-nb_digibok_2010040605025</a></td>\n",
       "      <td id=\"T_f1577_row3_col1\" class=\"data row3 col1\" >« <b>Titt-tei</b> , hvor er vi nå ? » « Gullet . »</td>\n",
       "    </tr>\n",
       "  </tbody>\n",
       "</table>\n"
      ],
      "text/plain": [
       "<pandas.io.formats.style.Styler at 0x7f1d808af340>"
      ]
     },
     "execution_count": 17,
     "metadata": {},
     "output_type": "execute_result"
    }
   ],
   "source": [
    "dh.Concordance(corpus = naob, query=\"\"\"  \"titt-tei\"  \"\"\").show()"
   ]
  }
 ],
 "metadata": {
  "kernelspec": {
   "display_name": "Python 3",
   "language": "python",
   "name": "python3"
  },
  "language_info": {
   "codemirror_mode": {
    "name": "ipython",
    "version": 3
   },
   "file_extension": ".py",
   "mimetype": "text/x-python",
   "name": "python",
   "nbconvert_exporter": "python",
   "pygments_lexer": "ipython3",
   "version": "3.8.1"
  }
 },
 "nbformat": 4,
 "nbformat_minor": 4
}
