{
 "cells": [
  {
   "cell_type": "code",
   "execution_count": null,
   "metadata": {},
   "outputs": [],
   "source": [
    "!pip install pandas openpyxl dhlab"
   ]
  },
  {
   "cell_type": "code",
   "execution_count": 10,
   "metadata": {},
   "outputs": [],
   "source": [
    "## CONFIG \n",
    "\n",
    "naob_file = \"NAOB 2001-05.xlsx\"\n",
    "missing_file = \"NAOB_konkordans/NAOB 2001-05 mangler.xlsx\"\n"
   ]
  },
  {
   "cell_type": "code",
   "execution_count": 234,
   "metadata": {},
   "outputs": [],
   "source": [
    "from typing import Iterable\n",
    "\n",
    "## String formatting functions\n",
    "\n",
    "def replace_non_alpha(string: str, strict: bool = False) -> str:\n",
    "    \"\"\"Replace non-alphanumeric punctuation marks with whitespace in the string.\"\"\"\n",
    "    if (string is None) or (not string) or (isinstance(string, float)):\n",
    "        return None\n",
    "    if isinstance(string, int):\n",
    "        return str(string)\n",
    "    if not string.isalnum():\n",
    "        iterable_string = string.split() if strict else string\n",
    "\n",
    "        for x in iterable_string: \n",
    "            string = string.replace(x, \" \") if not x.isalnum() else string\n",
    "        #print(string)\n",
    "    return string.strip() \n",
    "\n",
    "\n",
    "def flip_names(author: str) -> str: \n",
    "    return \" \".join(reversed(author.strip().split(\" , \")))\n",
    "\n",
    "\n",
    "def remove_author_annotation(author: str) -> str: \n",
    "    return author.replace(\" (red.)\", \"\").replace(\" et al.\", \"\")\n",
    "\n",
    "\n",
    "def remove_initials(author: str) -> str:\n",
    "    if author is None:\n",
    "        return None\n",
    "    return \" \".join([x for x in author.split() if len(x) > 1])\n",
    "\n",
    "def split_authors(authors: str, sep=\"/\") -> Iterable[str]:\n",
    "    if authors is None:\n",
    "        return []\n",
    "    return [auth.strip() for auth in authors.split(\" \" + sep + \" \")]\n",
    "\n",
    "\n",
    "def format_authors_for_comparison(authors: str) -> str: \n",
    "    \"\"\"Format authors from dhlab.Corpus to compare with the NAOB data.\"\"\"\n",
    "    return [\n",
    "        flip_names(auth).strip() for auth in split_authors(authors)\n",
    "    ]\n"
   ]
  },
  {
   "cell_type": "code",
   "execution_count": 239,
   "metadata": {},
   "outputs": [],
   "source": [
    "import pandas as pd\n",
    "import  dhlab as dh\n",
    "import dhlab.api.dhlab_api as api\n",
    "import datetime\n",
    "import re\n",
    "\n",
    "# Les Excel-arket\n",
    "df = pd.read_excel(naob_file, names=[\"Publikasjon\", \"Årstall\"])\n",
    "\n",
    "\n",
    "def parse_publication(pub_string):\n",
    "    match = re.match(r'(.*?) – (.*?) \\((.*?) (\\d{4})\\)', pub_string)\n",
    "    if match:\n",
    "        forfatter = match.group(1)\n",
    "        full_tittel = match.group(2)\n",
    "        sted = match.group(3)\n",
    "        år = match.group(4)\n",
    "        \n",
    "        # Del opp tittel og undertittel ved siste forekomst av ': '\n",
    "        tittel_deler = full_tittel.rsplit(': ', 1)\n",
    "        tittel = tittel_deler[0].strip()\n",
    "        undertittel = tittel_deler[1].strip() if len(tittel_deler) > 1 else None\n",
    "        \n",
    "        return {\n",
    "            'Forfatter': forfatter,\n",
    "            'Tittel': tittel,\n",
    "            'Undertittel': undertittel,\n",
    "            'Sted': sted,\n",
    "            'År': år\n",
    "        }\n",
    "    return {}\n",
    "\n",
    "# Anvend parsing-funksjonen på hver rad\n",
    "df = pd.concat([df, df['Publikasjon'].apply(parse_publication).apply(pd.Series)], axis=1)\n",
    "\n",
    "# Formater strengverdiene før spørring\n",
    "#Fjern tegnsetting, del opp flere forfattere i liste, fjern initialer\n",
    "query_df = df.copy()\n",
    "\n",
    "# Fjern non-alphanumeriske tegn fra tittel\n",
    "query_df[\"Tittel\"] = df.Tittel.apply(replace_non_alpha)\n",
    "\n",
    "# Fjern annotasjoner som angir flere forfattere/ roller\n",
    "query_df[\"Forfatter\"] = query_df.Forfatter.str.replace(\" (red.)\", \"\").replace(\" et al.\", \"\")\n",
    "\n",
    "# Fjern non-alphanumeriske tegn fra forfatter\n",
    "query_df[\"Forfatter\"] = query_df.Forfatter.apply(replace_non_alpha)\n",
    "\n",
    "# FJern initialer fra forfatter\n",
    "query_df[\"Forfatter\"] = query_df.Forfatter.apply(remove_initials)\n",
    "\n",
    "# Del opp i navneliste\n",
    "query_df[\"Forfatterliste\"] = query_df.Forfatter.map(lambda x: split_authors(x, sep=\"og\"))\n",
    "\n",
    "\n",
    "\n",
    "def get_corpus_from_metadata(row):\n",
    "    try:\n",
    "        results = api.document_corpus(\n",
    "            author=row['Forfatterliste'][0] if row['Forfatterliste'] else None,\n",
    "            title=row['Tittel'],\n",
    "            from_year = int(row['Årstall']),\n",
    "            to_year = int(row['Årstall']) + 1,\n",
    "            doctype = \"digibok\",\n",
    "        )\n",
    "    except Exception as e:\n",
    "        print(f\"Failed to query metadata for row {row.name}, {row['Tittel']} by {row['Forfatter']}: {e}\")\n",
    "        #raise e\n",
    "        results = pd.DataFrame()\n",
    "    return results\n",
    "\n",
    "\n",
    "for idx, row in df.iterrows():\n",
    "    query_row = query_df.loc[idx]\n",
    "    metadata = get_corpus_from_metadata(query_row)\n",
    "\n",
    "    if not metadata.empty:\n",
    "        #urn = find_best_match(row, metadata)\n",
    "        urn = metadata.iloc[0].get('urn', '')\n",
    "        df.loc[idx, 'URN'] = urn\n",
    "        df.loc[idx, 'URL'] = 'https://urn.nb.no/' + df.loc[idx, 'URN']\n",
    "        \n",
    "#df.URL = df.URN.map(lambda x: f\"https://urn.nb.no/{x}\" if x else None)\n",
    "\n",
    "# Lagre resultatet til en ny Excel-fil\n",
    "\n",
    "today = datetime.datetime.today().strftime(\"%Y-%m-%d\")\n",
    "\n",
    "df.to_excel(f'NAOB_2001-2005_med_URN_{today}.xlsx', index=False)"
   ]
  },
  {
   "cell_type": "code",
   "execution_count": 249,
   "metadata": {},
   "outputs": [],
   "source": [
    "df.to_excel(f'NAOB_2001-2005_med_URN_{today}.xlsx', index=False)\n"
   ]
  },
  {
   "cell_type": "code",
   "execution_count": 251,
   "metadata": {},
   "outputs": [
    {
     "data": {
      "text/html": [
       "<div>\n",
       "<style scoped>\n",
       "    .dataframe tbody tr th:only-of-type {\n",
       "        vertical-align: middle;\n",
       "    }\n",
       "\n",
       "    .dataframe tbody tr th {\n",
       "        vertical-align: top;\n",
       "    }\n",
       "\n",
       "    .dataframe thead th {\n",
       "        text-align: right;\n",
       "    }\n",
       "</style>\n",
       "<table border=\"1\" class=\"dataframe\">\n",
       "  <thead>\n",
       "    <tr style=\"text-align: right;\">\n",
       "      <th></th>\n",
       "      <th>Publikasjon</th>\n",
       "      <th>Årstall</th>\n",
       "      <th>Forfatter</th>\n",
       "      <th>Tittel</th>\n",
       "      <th>Undertittel</th>\n",
       "      <th>Sted</th>\n",
       "      <th>År</th>\n",
       "      <th>URN</th>\n",
       "      <th>URL</th>\n",
       "    </tr>\n",
       "  </thead>\n",
       "  <tbody>\n",
       "    <tr>\n",
       "      <th>107</th>\n",
       "      <td>Festbok til Olav Angell i anledning av 70-årsd...</td>\n",
       "      <td>2002</td>\n",
       "      <td>NaN</td>\n",
       "      <td>NaN</td>\n",
       "      <td>NaN</td>\n",
       "      <td>NaN</td>\n",
       "      <td>NaN</td>\n",
       "      <td>URN:NBN:no-nb_digibok_2016021807550</td>\n",
       "      <td>https://urn.nb.no/URN:NBN:no-nb_digibok_201602...</td>\n",
       "    </tr>\n",
       "    <tr>\n",
       "      <th>154</th>\n",
       "      <td>Naturgressboka : bygging, drift, vedlikehold a...</td>\n",
       "      <td>2002</td>\n",
       "      <td>NaN</td>\n",
       "      <td>NaN</td>\n",
       "      <td>NaN</td>\n",
       "      <td>NaN</td>\n",
       "      <td>NaN</td>\n",
       "      <td>URN:NBN:no-nb_digibok_2014110407587</td>\n",
       "      <td>https://urn.nb.no/URN:NBN:no-nb_digibok_201411...</td>\n",
       "    </tr>\n",
       "    <tr>\n",
       "      <th>235</th>\n",
       "      <td>Metallurgisk ordbok (Oslo 2003) 2. utg. (1. ut...</td>\n",
       "      <td>2003</td>\n",
       "      <td>NaN</td>\n",
       "      <td>NaN</td>\n",
       "      <td>NaN</td>\n",
       "      <td>NaN</td>\n",
       "      <td>NaN</td>\n",
       "      <td>URN:NBN:no-nb_digibok_2020040748007</td>\n",
       "      <td>https://urn.nb.no/URN:NBN:no-nb_digibok_202004...</td>\n",
       "    </tr>\n",
       "    <tr>\n",
       "      <th>371</th>\n",
       "      <td>Grovvitser (Oslo 2005) utgitt som bilag til Vi...</td>\n",
       "      <td>2005</td>\n",
       "      <td>NaN</td>\n",
       "      <td>NaN</td>\n",
       "      <td>NaN</td>\n",
       "      <td>NaN</td>\n",
       "      <td>NaN</td>\n",
       "      <td>URN:NBN:no-nb_digibok_2011111705061</td>\n",
       "      <td>https://urn.nb.no/URN:NBN:no-nb_digibok_201111...</td>\n",
       "    </tr>\n",
       "  </tbody>\n",
       "</table>\n",
       "</div>"
      ],
      "text/plain": [
       "                                           Publikasjon  Årstall Forfatter  \\\n",
       "107  Festbok til Olav Angell i anledning av 70-årsd...     2002       NaN   \n",
       "154  Naturgressboka : bygging, drift, vedlikehold a...     2002       NaN   \n",
       "235  Metallurgisk ordbok (Oslo 2003) 2. utg. (1. ut...     2003       NaN   \n",
       "371  Grovvitser (Oslo 2005) utgitt som bilag til Vi...     2005       NaN   \n",
       "\n",
       "    Tittel Undertittel Sted   År                                  URN  \\\n",
       "107    NaN         NaN  NaN  NaN  URN:NBN:no-nb_digibok_2016021807550   \n",
       "154    NaN         NaN  NaN  NaN  URN:NBN:no-nb_digibok_2014110407587   \n",
       "235    NaN         NaN  NaN  NaN  URN:NBN:no-nb_digibok_2020040748007   \n",
       "371    NaN         NaN  NaN  NaN  URN:NBN:no-nb_digibok_2011111705061   \n",
       "\n",
       "                                                   URL  \n",
       "107  https://urn.nb.no/URN:NBN:no-nb_digibok_201602...  \n",
       "154  https://urn.nb.no/URN:NBN:no-nb_digibok_201411...  \n",
       "235  https://urn.nb.no/URN:NBN:no-nb_digibok_202004...  \n",
       "371  https://urn.nb.no/URN:NBN:no-nb_digibok_201111...  "
      ]
     },
     "execution_count": 251,
     "metadata": {},
     "output_type": "execute_result"
    }
   ],
   "source": [
    "df.loc[df.Forfatter.isna()]"
   ]
  },
  {
   "cell_type": "code",
   "execution_count": 250,
   "metadata": {},
   "outputs": [
    {
     "data": {
      "text/plain": [
       "['https://urn.nb.no/URN:NBN:no-nb_digibok_2016021807550',\n",
       " 'https://urn.nb.no/URN:NBN:no-nb_digibok_2014110407587',\n",
       " 'https://urn.nb.no/URN:NBN:no-nb_digibok_2020040748007',\n",
       " 'https://urn.nb.no/URN:NBN:no-nb_digibok_2011111705061']"
      ]
     },
     "execution_count": 250,
     "metadata": {},
     "output_type": "execute_result"
    }
   ],
   "source": [
    "df.loc[df.Forfatter.isna()].URL.to_list()"
   ]
  },
  {
   "cell_type": "code",
   "execution_count": null,
   "metadata": {},
   "outputs": [],
   "source": [
    "\n",
    "\n",
    "# Funksjon for å finne beste treff\n",
    "def find_best_match(row, metadata):\n",
    "    \n",
    "    author=row['Forfatter']\n",
    "    title=row['Tittel']\n",
    "    year = int(row['Årstall'])\n",
    "    query\n",
    "    \n",
    "#    search_string = row['Søkestreng'].lower()\n",
    "    best_match = None\n",
    "    best_score = 0\n",
    "    \n",
    "    for idx, item in metadata.iterrows():\n",
    "        dh_title = item.get('title', '').lower()\n",
    "        authors = ' '.join(item.get('authors', [])).lower()\n",
    "        year = str(item.get('year', ''))\n",
    "        \n",
    "        #item_string = f\"{title} {authors} {year}\"\n",
    "        \n",
    "        # Enkel poengberegning basert på hvor mange ord som matcher\n",
    "        score = sum(1 for word in search_string.split() if word in item_string)\n",
    "        \n",
    "        if score > best_score:\n",
    "            best_score = score\n",
    "            best_match = item\n",
    "    \n",
    "    return best_match['urn'] if best_match else ''\n",
    "\n",
    "\n"
   ]
  },
  {
   "cell_type": "code",
   "execution_count": 194,
   "metadata": {},
   "outputs": [
    {
     "name": "stdout",
     "output_type": "stream",
     "text": [
      "Failed to query metadata for row 26, Frihetens bitre tiår by Hans Wilhelm Steinfeld: Expecting value: line 1 column 1 (char 0)\n",
      "Failed to query metadata for row 56, Kometenes øyeblikk by Odd W  Surén: Expecting value: line 1 column 1 (char 0)\n",
      "Failed to query metadata for row 63, Rød engel by Sissel Lange Nielsen: Expecting value: line 1 column 1 (char 0)\n",
      "Failed to query metadata for row 87, Dr  Zellwegers gave by Anne B  Ragde: Expecting value: line 1 column 1 (char 0)\n",
      "Failed to query metadata for row 100, Ayatollah highway by Christopher Friis Baastad Grøndahl og Arne Svingen: Expecting value: line 1 column 1 (char 0)\n",
      "Failed to query metadata for row 109, Moderne norsk by Finn Erik Vinje: Expecting value: line 1 column 1 (char 0)\n",
      "Failed to query metadata for row 114, Alexander L  Kielland    I slekt med hele byen by Gunnar A  Skadberg: Expecting value: line 1 column 1 (char 0)\n",
      "Failed to query metadata for row 132, Mannen som gikk på jorden by Ketil Bjørnstad  Torstein Bieler og Lage Fosheim: Expecting value: line 1 column 1 (char 0)\n",
      "Failed to query metadata for row 138, Avalon by Kristín A  Sandberg: Expecting value: line 1 column 1 (char 0)\n",
      "Failed to query metadata for row 144, Henrik Ibsen og Eros by Leif K  Roksund: Expecting value: line 1 column 1 (char 0)\n",
      "Failed to query metadata for row 162, Drømmer om storhet by Pål H  Christiansen: Expecting value: line 1 column 1 (char 0)\n",
      "Failed to query metadata for row 167, Fundamentalt nå by Steffen R M  Sørum: Expecting value: line 1 column 1 (char 0)\n",
      "Failed to query metadata for row 173, Kongstanken  Haakon   Maud I by Tor Bomann Larsen: Expecting value: line 1 column 1 (char 0)\n",
      "Failed to query metadata for row 183, Banesår by Alf R  Jacobsen: Expecting value: line 1 column 1 (char 0)\n",
      "Failed to query metadata for row 184, Det aller fineste by Anna Bache Wiig: Expecting value: line 1 column 1 (char 0)\n",
      "Failed to query metadata for row 185, Fosterstilling by Anne B  Ragde: Expecting value: line 1 column 1 (char 0)\n",
      "Failed to query metadata for row 187, Hold i virkeligheten by Anne K  Bang: Expecting value: line 1 column 1 (char 0)\n",
      "Failed to query metadata for row 202, Vaya con Dios by Frank O  Anthun: Expecting value: line 1 column 1 (char 0)\n",
      "Failed to query metadata for row 208, Norsk mediehistorie by Henrik G  Bastiansen og Hans Fredrik Dahl: Expecting value: line 1 column 1 (char 0)\n",
      "Failed to query metadata for row 237, Varulv om natten by Nina S  Alnæs: Expecting value: line 1 column 1 (char 0)\n",
      "Failed to query metadata for row 239, Knuseverk by Odd W  Surén: Expecting value: line 1 column 1 (char 0)\n",
      "Failed to query metadata for row 267, Til siste slutt by Alf R  Jacobsen: Expecting value: line 1 column 1 (char 0)\n",
      "Failed to query metadata for row 268, Berlinerpoplene by Anne B  Ragde: Expecting value: line 1 column 1 (char 0)\n",
      "Failed to query metadata for row 332, Vår frue av Kazans hjerte by Sissel Lange Nielsen: Expecting value: line 1 column 1 (char 0)\n",
      "Failed to query metadata for row 337, Folket  Haakon   Maud II by Tor Bomann Larsen: Expecting value: line 1 column 1 (char 0)\n",
      "Failed to query metadata for row 341, Blue notes by Victor D  Norman: Expecting value: line 1 column 1 (char 0)\n",
      "Failed to query metadata for row 343, Det er trikken i ditt liv by Yvonne C  Kuhn: Expecting value: line 1 column 1 (char 0)\n",
      "Failed to query metadata for row 346, Rød august by Alf R  Jacobsen: Expecting value: line 1 column 1 (char 0)\n",
      "Failed to query metadata for row 349, Eremittkrepsene by Anne B  Ragde: Expecting value: line 1 column 1 (char 0)\n",
      "Failed to query metadata for row 357, Kom  kom  hør nattergalen by Einar O  Risa: Expecting value: line 1 column 1 (char 0)\n",
      "Failed to query metadata for row 376, Nicolay Nicolaysen by Hans Emil Lidén: Expecting value: line 1 column 1 (char 0)\n",
      "Failed to query metadata for row 400, Min hellige krig by Nazneen Khan Østrem: Expecting value: line 1 column 1 (char 0)\n",
      "Failed to query metadata for row 401, På gyngende grunn by Niels Chr  Geelmuyden: Expecting value: line 1 column 1 (char 0)\n",
      "Failed to query metadata for row 403, USA by Ole O  Moen: Expecting value: line 1 column 1 (char 0)\n"
     ]
    }
   ],
   "source": [
    "\n",
    "for idx, row in df.iterrows():\n",
    "    query_row = query_df.loc[idx]\n",
    "    metadata = get_corpus_from_metadata(query_row)\n",
    "\n",
    "    if not metadata.empty:\n",
    "        #urn = find_best_match(row, metadata)\n",
    "        urn = metadata.iloc[0].get('urn', '')\n",
    "        df.loc[idx, 'URN'] = urn\n",
    "        df.loc[idx, 'URL'] = 'https://urn.nb.no/' + df.loc[idx, 'URN']\n",
    "        \n",
    "#df.URL = df.URN.map(lambda x: f\"https://urn.nb.no/{x}\" if x else None)\n",
    "\n",
    "# Lagre resultatet til en ny Excel-fil\n",
    "#df.to_excel('NAOB_2001-2005_med_URN.xlsx', index=False)\n"
   ]
  },
  {
   "cell_type": "code",
   "execution_count": 192,
   "metadata": {},
   "outputs": [
    {
     "data": {
      "text/plain": [
       "Publikasjon    Hans-Wilhelm Steinfeld – Frihetens bitre tiår ...\n",
       "Årstall                                                     2001\n",
       "Forfatter                                 Hans-Wilhelm Steinfeld\n",
       "Tittel                                      Frihetens bitre tiår\n",
       "Undertittel                                                 None\n",
       "Sted                                                        Oslo\n",
       "År                                                          2001\n",
       "URN                                                          NaN\n",
       "URL                                                          NaN\n",
       "Name: 26, dtype: object"
      ]
     },
     "execution_count": 192,
     "metadata": {},
     "output_type": "execute_result"
    }
   ],
   "source": [
    "df.iloc[26]"
   ]
  },
  {
   "cell_type": "code",
   "execution_count": 132,
   "metadata": {},
   "outputs": [
    {
     "name": "stdout",
     "output_type": "stream",
     "text": [
      "Original: Forfatter – Hovedtittel: Undertittel (Oslo 2001)\n",
      "Parsed: {'Forfatter': 'Forfatter', 'Tittel': 'Hovedtittel', 'Undertittel': 'Undertittel', 'Sted': 'Oslo', 'År': '2001'}\n",
      "\n",
      "Original: Forfatter1 og Forfatter2 – Hovedtittel: Undertittel (Oslo 2001)\n",
      "Parsed: {'Forfatter': 'Forfatter1 og Forfatter2', 'Tittel': 'Hovedtittel', 'Undertittel': 'Undertittel', 'Sted': 'Oslo', 'År': '2001'}\n",
      "\n",
      "Original: Forfatter – Kompleks tittel: med flere: kolon: Faktisk undertittel (Oslo 2001)\n",
      "Parsed: {'Forfatter': 'Forfatter', 'Tittel': 'Kompleks tittel: med flere: kolon', 'Undertittel': 'Faktisk undertittel', 'Sted': 'Oslo', 'År': '2001'}\n",
      "\n",
      "Original: Forfatter – Tittel uten undertittel (Oslo 2001)\n",
      "Parsed: {'Forfatter': 'Forfatter', 'Tittel': 'Tittel uten undertittel', 'Undertittel': None, 'Sted': 'Oslo', 'År': '2001'}\n",
      "\n"
     ]
    }
   ],
   "source": [
    "## Test parse titler \n",
    "examples = [\n",
    "    \"Forfatter – Hovedtittel: Undertittel (Oslo 2001)\",\n",
    "    \"Forfatter1 og Forfatter2 – Hovedtittel: Undertittel (Oslo 2001)\",\n",
    "    \"Forfatter – Kompleks tittel: med flere: kolon: Faktisk undertittel (Oslo 2001)\",\n",
    "    \"Forfatter – Tittel uten undertittel (Oslo 2001)\"\n",
    "]\n",
    "\n",
    "for example in examples:\n",
    "    result = parse_publication(example)\n",
    "    print(f\"Original: {example}\")\n",
    "    print(f\"Parsed: {result}\\n\")\n"
   ]
  },
  {
   "cell_type": "code",
   "execution_count": 170,
   "metadata": {},
   "outputs": [],
   "source": [
    "c = dh.Corpus(author= \"Anne Enger\", title=\"Grønn dame rød klut\")\n"
   ]
  },
  {
   "cell_type": "code",
   "execution_count": 173,
   "metadata": {},
   "outputs": [
    {
     "data": {
      "text/plain": [
       "'Grønn dame, rød klut'"
      ]
     },
     "execution_count": 173,
     "metadata": {},
     "output_type": "execute_result"
    }
   ],
   "source": [
    "df.iloc[0].Tittel\n",
    "\n"
   ]
  },
  {
   "cell_type": "code",
   "execution_count": 141,
   "metadata": {},
   "outputs": [
    {
     "data": {
      "text/plain": [
       "[['Henrik Ibsen', 'Steinar Vestli'],\n",
       " ['Henrik Ibsen', 'Nils Lund'],\n",
       " ['Henrik Ibsen'],\n",
       " ['Henrik Ibsen', 'Suzannah Ibsen'],\n",
       " ['Sigurd Ibsen'],\n",
       " ['Hilde Fiskum',\n",
       "  'Gunn Bakke Hansen',\n",
       "  'Mari Dahl Sæther',\n",
       "  'Mathilde Alfrida Jakobsen Skarpsno',\n",
       "  'Stian Isaksen',\n",
       "  'Ola Otnes',\n",
       "  'Henrik Ibsen'],\n",
       " ['Henrik Ibsen', 'Sverre Mo . Skrede'],\n",
       " ['Henrik Ibsen'],\n",
       " ['Henrik Ibsen', 'Alexander Mørk-Eidem'],\n",
       " ['Henrik Ibsen']]"
      ]
     },
     "execution_count": 141,
     "metadata": {},
     "output_type": "execute_result"
    }
   ],
   "source": [
    "#c = dh.Corpus(author= \"Ibsen\")\n",
    "c.frame.authors.map(format_authors_for_comparison).to_list()"
   ]
  },
  {
   "cell_type": "code",
   "execution_count": 138,
   "metadata": {},
   "outputs": [
    {
     "ename": "NameError",
     "evalue": "name 'corpus' is not defined",
     "output_type": "error",
     "traceback": [
      "\u001b[0;31m---------------------------------------------------------------------------\u001b[0m",
      "\u001b[0;31mNameError\u001b[0m                                 Traceback (most recent call last)",
      "Cell \u001b[0;32mIn[138], line 1\u001b[0m\n\u001b[0;32m----> 1\u001b[0m metadata \u001b[38;5;241m=\u001b[39m \u001b[43mcorpus\u001b[49m\u001b[38;5;241m.\u001b[39mframe \n\u001b[1;32m      4\u001b[0m \u001b[38;5;66;03m# Funksjon for å finne beste treff\u001b[39;00m\n\u001b[1;32m      5\u001b[0m \u001b[38;5;28;01mdef\u001b[39;00m \u001b[38;5;21mfind_best_match\u001b[39m(row, metadata):\n",
      "\u001b[0;31mNameError\u001b[0m: name 'corpus' is not defined"
     ]
    }
   ],
   "source": [
    "\n",
    "metadata = corpus.frame \n",
    "\n",
    "\n",
    "# Funksjon for å finne beste treff\n",
    "def find_best_match(row, metadata):\n",
    "    search_string = row['Søkestreng'].lower()\n",
    "    best_match = None\n",
    "    best_score = 0\n",
    "    \n",
    "    for item in metadata:\n",
    "        title = item.get('title', '').lower()\n",
    "        authors = ' '.join(item.get('authors', [])).lower()\n",
    "        year = str(item.get('year', ''))\n",
    "        \n",
    "        item_string = f\"{title} {authors} {year}\"\n",
    "        \n",
    "        # Enkel poengberegning basert på hvor mange ord som matcher\n",
    "        score = sum(1 for word in search_string.split() if word in item_string)\n",
    "        \n",
    "        if score > best_score:\n",
    "            best_score = score\n",
    "            best_match = item\n",
    "    \n",
    "    return best_match['urn'] if best_match else ''\n",
    "\n",
    "# Finn URN for hver publikasjon\n",
    "df['URN'] = df.apply(lambda row: find_best_match(row, metadata), axis=1)\n",
    "\n",
    "# Lag fullstendig URL\n",
    "df['URL'] = 'https://urn.nb.no/' + df['URN']\n",
    "\n",
    "# Lagre resultatet til en ny Excel-fil\n",
    "df.to_excel('publikasjoner_med_url.xlsx', index=False)\n"
   ]
  },
  {
   "cell_type": "code",
   "execution_count": null,
   "metadata": {},
   "outputs": [],
   "source": []
  }
 ],
 "metadata": {
  "kernelspec": {
   "display_name": "Python 3",
   "language": "python",
   "name": "python3"
  },
  "language_info": {
   "codemirror_mode": {
    "name": "ipython",
    "version": 3
   },
   "file_extension": ".py",
   "mimetype": "text/x-python",
   "name": "python",
   "nbconvert_exporter": "python",
   "pygments_lexer": "ipython3",
   "version": "3.12.3"
  }
 },
 "nbformat": 4,
 "nbformat_minor": 2
}
