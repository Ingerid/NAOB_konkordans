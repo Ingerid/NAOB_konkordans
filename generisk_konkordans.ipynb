{
 "cells": [
  {
   "cell_type": "markdown",
   "metadata": {},
   "source": [
    "## Konkordanser for NAOB mot Bokhylla\n",
    "\n",
    "Versjon: **August 2020**\n",
    "Inneholder korpus med to utvidelser, en fra 2019 og en fra 2020.\n",
    "\n",
    "Velg `Run all` fra Cell-menyen over. \n",
    "\n",
    "Søkeord er forskjellig med stor og liten forbokstav. Forfatter og tittel kan trunkeres, for eksempel *Agnar Mykle* kan skrives som *mykl*. "
   ]
  },
  {
   "cell_type": "code",
   "execution_count": 12,
   "metadata": {},
   "outputs": [
    {
     "data": {
      "text/markdown": [
       "Updated file `C:\\Users\\larsj\\Documents\\GitHub\\NAOB_konkordans\\dhlab_v2.py`"
      ],
      "text/plain": [
       "<IPython.core.display.Markdown object>"
      ]
     },
     "metadata": {},
     "output_type": "display_data"
    }
   ],
   "source": [
    "import pandas as pd\n",
    "import requests\n",
    "import inspect\n",
    "import csv\n",
    "import dhlab.module_update as mu\n",
    "mu.update('dhlab_v2')\n",
    "import dhlab_v2 as d2"
   ]
  },
  {
   "cell_type": "code",
   "execution_count": 17,
   "metadata": {},
   "outputs": [],
   "source": [
    "def get_urns_from_text(document):\n",
    "    \"\"\"Find all URNs in a text-file\"\"\"\n",
    "    \n",
    "    import re\n",
    "\n",
    "    with open(document) as fp:\n",
    "        text = fp.read()\n",
    "    #print(text)\n",
    "    return re.findall(\"URN:NBN:no-nb_digibok_[0-9]{13}\", text)"
   ]
  },
  {
   "cell_type": "code",
   "execution_count": 18,
   "metadata": {},
   "outputs": [],
   "source": [
    "res = dict()\n",
    "\n",
    "naob = get_urns_from_text(\"./naob_korpus.txt\")\n",
    "naobutvid = get_urns_from_text(\"./Litterære kilder tilleggsliste til UBB og NB 20190328.txt\")\n",
    "naobutvid2 = get_urns_from_text(\"./NAOBTilleggURN2020-06-10.txt\")\n",
    "NAOB = naob + naobutvid + naobutvid2\n"
   ]
  },
  {
   "cell_type": "code",
   "execution_count": 27,
   "metadata": {},
   "outputs": [],
   "source": [
    "naob_df = pd.DataFrame(naob, columns = ['urn'])\n",
    "naob_df['corpus'] = 'naob_original'\n",
    "\n",
    "\n",
    "naob_all_df = pd.DataFrame(NAOB, columns = ['urn'])\n",
    "naob_df['corpus'] = 'naob_hele'\n",
    "\n",
    "\n",
    "naob_utvidelse2019_df = pd.DataFrame(naobutvid, columns = ['urn'])\n",
    "naob_utvidelse2019_df['corpus'] = 'naob_2019'\n",
    "\n",
    "\n",
    "naob_utvidelse2020_df = pd.DataFrame(naobutvid2, columns = ['urn'])\n",
    "naob_utvidelse2020_df['corpus'] = 'naob_2020'\n"
   ]
  },
  {
   "cell_type": "code",
   "execution_count": 29,
   "metadata": {},
   "outputs": [],
   "source": [
    "naob_corpus = pd.concat([naob_df, naob_all_df, naob_utvidelse2019_df, naob_utvidelse2020_df])"
   ]
  },
  {
   "cell_type": "code",
   "execution_count": 42,
   "metadata": {},
   "outputs": [],
   "source": [
    "naob_corpus.to_csv('naob.csv')"
   ]
  },
  {
   "cell_type": "code",
   "execution_count": 44,
   "metadata": {},
   "outputs": [],
   "source": [
    "conc = d2.Concordance(naob_df, 'arbeid')"
   ]
  },
  {
   "cell_type": "code",
   "execution_count": 45,
   "metadata": {},
   "outputs": [
    {
     "data": {
      "text/plain": [
       "25592"
      ]
     },
     "execution_count": 45,
     "metadata": {},
     "output_type": "execute_result"
    }
   ],
   "source": [
    "conc.size"
   ]
  },
  {
   "cell_type": "code",
   "execution_count": null,
   "metadata": {},
   "outputs": [],
   "source": []
  }
 ],
 "metadata": {
  "hide_input": false,
  "kernelspec": {
   "display_name": "Python 3",
   "language": "python",
   "name": "python3"
  },
  "language_info": {
   "codemirror_mode": {
    "name": "ipython",
    "version": 3
   },
   "file_extension": ".py",
   "mimetype": "text/x-python",
   "name": "python",
   "nbconvert_exporter": "python",
   "pygments_lexer": "ipython3",
   "version": "3.8.3"
  }
 },
 "nbformat": 4,
 "nbformat_minor": 4
}
