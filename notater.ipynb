{
 "cells": [
  {
   "cell_type": "markdown",
   "metadata": {},
   "source": [
    "Denne skissen ser ut til å fungere bra, altså etter intensjonene.\n",
    "\n",
    " \n",
    "\n",
    "Det er fint at vi nå får oppgitt det totale antallet av treff, og at vi kan velge maksimalt antall treff som vises.\n",
    "\n",
    " \n",
    "\n",
    "I tillegg til forfatter og verk (som du nevner), er det viktig for oss å se årstallet for utgivelsen (som i den gamle versjonen).\n",
    "\n",
    " \n",
    "\n",
    "Det er svært viktig å kunne avgrense periode, slik som med slideren vi har i den gamle versjonen.\n",
    "\n",
    " \n",
    "\n",
    "For oss er det svært hensiktsmessig med rekkefølge etter årstall (som default) i visningen (som før).\n",
    "\n",
    " \n",
    "\n",
    "Sortering på venstrekontekst og høyrekontekst (som før) er også ønskelig (det er gjerne noe språkfolk liker å ha). Da må det også være mulig å sortere på årstall.\n",
    "\n",
    " \n",
    "\n",
    "Når vi kan trunkere, er det i det minste en fordel å kunne sortere etter formen på søkeordet.\n",
    "\n",
    " \n",
    "\n",
    "I den gamle versjonen kommer det et for stort mellomrom på hver side av søkeordet når vi kopierer og limer inn et utsnitt av et treff (som sitat i en ordartikkel). Det er fint at det ikke skjer i den nye versjonen, og blir det kolonnevisning, er det i så fall fint om mellomrommene på hver side av søkeuttrykket fortsatt kunne blitt «normale» ved kopiering og liming.\n",
    "\n",
    " \n",
    "\n",
    "Søk på forfatter og tittel har vi  for så vidt aldri brukt (i den gamle versjonen).\n",
    "\n",
    " \n",
    "\n",
    "Vi har ikke testet så mye at vi kan si noe klart om antall treff i den nye og den gamle versjonen. Enkelte ganger har det blitt en anelse flere treff i den nye versjonen (jeg tenker ikke på hvor mange treff som vises om gangen); det har kanskje med begrensningen av antall treff fra samme verk i den gamle versjonen å gjøre, alternativt at søkesystemet er litt bedre i den nye. Når jeg søker på «fiskebollen», får jeg ett treff MER i den gamle versjonen i den nye. Jeg ser at treffet som mangler, har samme setning som ett av de andre treffene, men treffene er hentet fra forskjellige utgivelser (hhv. «Lanterner» og «Samlede essays» av Jens Bjørneboe). Det er ikke så farlig om treffene blir sånn eller sånn i slike situasjoner, men jeg nevner en observert forskjell.\n",
    "\n",
    " "
   ]
  }
 ],
 "metadata": {
  "kernelspec": {
   "display_name": "Python 3",
   "language": "python",
   "name": "python3"
  },
  "language_info": {
   "codemirror_mode": {
    "name": "ipython",
    "version": 3
   },
   "file_extension": ".py",
   "mimetype": "text/x-python",
   "name": "python",
   "nbconvert_exporter": "python",
   "pygments_lexer": "ipython3",
   "version": "3.8.1"
  }
 },
 "nbformat": 4,
 "nbformat_minor": 4
}
